{
 "cells": [
  {
   "cell_type": "code",
   "execution_count": null,
   "metadata": {},
   "outputs": [
    {
     "name": "stdout",
     "output_type": "stream",
     "text": [
      "Requirement already satisfied: SpeechRecognition in c:\\users\\admin\\anaconda3\\lib\\site-packages (3.14.2)\n",
      "Requirement already satisfied: pyttsx3 in c:\\users\\admin\\anaconda3\\lib\\site-packages (2.98)\n",
      "Requirement already satisfied: wikipedia in c:\\users\\admin\\anaconda3\\lib\\site-packages (1.4.0)\n",
      "Requirement already satisfied: pyjokes in c:\\users\\admin\\anaconda3\\lib\\site-packages (0.8.3)\n",
      "Requirement already satisfied: pyaudio in c:\\users\\admin\\anaconda3\\lib\\site-packages (0.2.14)\n",
      "Requirement already satisfied: typing-extensions in c:\\users\\admin\\anaconda3\\lib\\site-packages (from SpeechRecognition) (4.11.0)\n",
      "Requirement already satisfied: comtypes in c:\\users\\admin\\anaconda3\\lib\\site-packages (from pyttsx3) (1.4.10)\n",
      "Requirement already satisfied: pypiwin32 in c:\\users\\admin\\anaconda3\\lib\\site-packages (from pyttsx3) (223)\n",
      "Requirement already satisfied: pywin32 in c:\\users\\admin\\anaconda3\\lib\\site-packages (from pyttsx3) (305.1)\n",
      "Requirement already satisfied: beautifulsoup4 in c:\\users\\admin\\anaconda3\\lib\\site-packages (from wikipedia) (4.12.3)\n",
      "Requirement already satisfied: requests<3.0.0,>=2.0.0 in c:\\users\\admin\\anaconda3\\lib\\site-packages (from wikipedia) (2.32.3)\n",
      "Requirement already satisfied: charset-normalizer<4,>=2 in c:\\users\\admin\\anaconda3\\lib\\site-packages (from requests<3.0.0,>=2.0.0->wikipedia) (3.3.2)\n",
      "Requirement already satisfied: idna<4,>=2.5 in c:\\users\\admin\\anaconda3\\lib\\site-packages (from requests<3.0.0,>=2.0.0->wikipedia) (3.7)\n",
      "Requirement already satisfied: urllib3<3,>=1.21.1 in c:\\users\\admin\\anaconda3\\lib\\site-packages (from requests<3.0.0,>=2.0.0->wikipedia) (2.2.3)\n",
      "Requirement already satisfied: certifi>=2017.4.17 in c:\\users\\admin\\anaconda3\\lib\\site-packages (from requests<3.0.0,>=2.0.0->wikipedia) (2024.8.30)\n",
      "Requirement already satisfied: soupsieve>1.2 in c:\\users\\admin\\anaconda3\\lib\\site-packages (from beautifulsoup4->wikipedia) (2.5)\n"
     ]
    }
   ],
   "source": [
    "# Install required libraries\n",
    " "
   ]
  },
  {
   "cell_type": "code",
   "execution_count": 4,
   "metadata": {},
   "outputs": [],
   "source": [
    "# Text-to-speech setup\n",
    "import pyttsx3\n",
    "\n",
    "engine = pyttsx3.init()\n",
    "engine.setProperty('rate', 150)\n",
    "voices = engine.getProperty('voices')\n",
    "engine.setProperty('voice', voices[1].id)\n",
    "\n",
    "def speak(text):\n",
    "    try:\n",
    "        engine.say(text)\n",
    "        engine.runAndWait()\n",
    "    except:\n",
    "        print(\"Assistant:\", text)"
   ]
  },
  {
   "cell_type": "code",
   "execution_count": 5,
   "metadata": {},
   "outputs": [],
   "source": [
    "# Greet the user\n",
    "import datetime\n",
    "\n",
    "def greet():\n",
    "    hour = datetime.datetime.now().hour\n",
    "    if hour < 12:\n",
    "        speak(\"Good morning!\")\n",
    "    elif hour < 18:\n",
    "        speak(\"Good afternoon!\")\n",
    "    else:\n",
    "        speak(\"Good evening!\")\n",
    "    speak(\"I am your assistant. How can I help you?\")"
   ]
  },
  {
   "cell_type": "code",
   "execution_count": 6,
   "metadata": {},
   "outputs": [],
   "source": [
    "# Listen from microphone or fallback to text\n",
    "import speech_recognition as sr\n",
    "\n",
    "def listen():\n",
    "    try:\n",
    "        r = sr.Recognizer()\n",
    "        with sr.Microphone() as source:\n",
    "            print(\"Listening...\")\n",
    "            r.pause_threshold = 1\n",
    "            audio = r.listen(source)\n",
    "        query = r.recognize_google(audio, language='en-in')\n",
    "        print(f\"You said: {query}\")\n",
    "        return query.lower()\n",
    "    except:\n",
    "        return input(\"Mic not available. Type your command: \").lower()"
   ]
  },
  {
   "cell_type": "code",
   "execution_count": 7,
   "metadata": {},
   "outputs": [],
   "source": [
    "# Main assistant logic\n",
    "import wikipedia\n",
    "import pyjokes\n",
    "import webbrowser\n",
    "import os"
   ]
  },
  {
   "cell_type": "code",
   "execution_count": 11,
   "metadata": {},
   "outputs": [],
   "source": [
    "def run_assistant():\n",
    "    greet()\n",
    "    while True:\n",
    "        try:\n",
    "            command = listen()\n",
    "\n",
    "            if command == \"\":\n",
    "                continue  # If no input is captured, keep listening\n",
    "\n",
    "            elif 'wikipedia' in command:\n",
    "                speak(\"What should I search on Wikipedia?\")\n",
    "                query = command.replace(\"wikipedia\", \"\").strip()\n",
    "                if not query:\n",
    "                    query = listen()\n",
    "                try:\n",
    "                    results = wikipedia.summary(query, sentences=2)\n",
    "                    speak(\"According to Wikipedia\")\n",
    "                    speak(results)\n",
    "                except wikipedia.exceptions.DisambiguationError as e:\n",
    "                    speak(\"That term is ambiguous. Please be more specific.\")\n",
    "                except wikipedia.exceptions.PageError:\n",
    "                    speak(\"I couldn't find anything on Wikipedia for that.\")\n",
    "                except Exception as e:\n",
    "                    speak(\"Sorry, something went wrong while searching Wikipedia.\")\n",
    "                    print(\"Wikipedia error:\", e)\n",
    "\n",
    "\n",
    "            elif 'joke' in command:\n",
    "                speak(pyjokes.get_joke())\n",
    "\n",
    "            elif 'open youtube' in command:\n",
    "                webbrowser.open(\"https://youtube.com\")\n",
    "\n",
    "            elif 'time' in command:\n",
    "                current_time = datetime.datetime.now().strftime(\"%H:%M:%S\")\n",
    "                speak(f\"The time is {current_time}\")\n",
    "\n",
    "            elif 'weather' in command:\n",
    "                speak(\"Opening weather forecast.\")\n",
    "                webbrowser.open(\"https://www.google.com/search?q=weather+today\")\n",
    "\n",
    "            elif 'calculate' in command:\n",
    "                speak(\"Please type the expression (e.g., 3 + 4):\")\n",
    "                expr = input(\"Expression: \")\n",
    "                try:\n",
    "                    result = eval(expr)\n",
    "                    speak(f\"The result is {result}\")\n",
    "                except:\n",
    "                    speak(\"Sorry, I couldn't calculate that.\")\n",
    "\n",
    "            elif 'play song' in command or 'play music' in command:\n",
    "                speak(\"What song would you like to hear?\")\n",
    "                song = listen()\n",
    "                speak(f\"Playing {song} on YouTube.\")\n",
    "                query = song.replace(\" \", \"+\")\n",
    "                webbrowser.open(f\"https://www.youtube.com/results?search_query={query}\")\n",
    "\n",
    "            elif 'open notepad' in command:\n",
    "                speak(\"Opening Notepad.\")\n",
    "                os.system(\"notepad\")\n",
    "\n",
    "            elif 'open calculator' in command:\n",
    "                speak(\"Opening Calculator.\")\n",
    "                os.system(\"calc\")\n",
    "\n",
    "            elif 'exit' in command or 'quit' in command or 'stop' in command:\n",
    "                speak(\"Goodbye!\")\n",
    "                break\n",
    "\n",
    "            else:\n",
    "                speak(\"Sorry, I didn’t understand that.\")\n",
    "\n",
    "        except Exception as e:\n",
    "            print(\"Error occurred:\", e)\n",
    "            speak(\"There was an error. Listening again.\")\n"
   ]
  },
  {
   "cell_type": "code",
   "execution_count": 12,
   "metadata": {},
   "outputs": [
    {
     "name": "stdout",
     "output_type": "stream",
     "text": [
      "Listening...\n",
      "Listening...\n",
      "Listening...\n",
      "You said: exit\n"
     ]
    }
   ],
   "source": [
    "run_assistant()"
   ]
  }
 ],
 "metadata": {
  "kernelspec": {
   "display_name": "Python 3 (ipykernel)",
   "language": "python",
   "name": "python3"
  },
  "language_info": {
   "codemirror_mode": {
    "name": "ipython",
    "version": 3
   },
   "file_extension": ".py",
   "mimetype": "text/x-python",
   "name": "python",
   "nbconvert_exporter": "python",
   "pygments_lexer": "ipython3",
   "version": "3.12.7"
  }
 },
 "nbformat": 4,
 "nbformat_minor": 4
}
